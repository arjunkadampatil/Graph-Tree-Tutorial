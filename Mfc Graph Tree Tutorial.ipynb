{
 "cells": [
  {
   "cell_type": "markdown",
   "id": "38444f1d",
   "metadata": {},
   "source": [
    "# Graphs and Trees: A Tutorial Notebook"
   ]
  },
  {
   "cell_type": "markdown",
   "id": "9f3c0ce3",
   "metadata": {},
   "source": [
    "1. Degree of Each Vertex"
   ]
  },
  {
   "cell_type": "code",
   "execution_count": 15,
   "id": "bf76112d",
   "metadata": {},
   "outputs": [],
   "source": [
    "# Write a code to find the degree of each vertex, and store it in a dictionary. Sort the keys of the dictionary by the degree stored in the values.\n",
    "\n",
    "def find_degrees(adj_list):\n",
    "    degrees = {v: len(neighbors) for v, neighbors in adj_list.items()}\n",
    "    sorted_degrees = dict(sorted(degrees.items(), key=lambda x: x[1]))\n",
    "    return sorted_degrees\n",
    "\n",
    "# Example:\n",
    "# adj_list = {'A': ['B', 'C'], 'B': ['A'], 'C': ['A']}\n",
    "# Output: {'B': 1, 'C': 1, 'A': 2}"
   ]
  },
  {
   "cell_type": "markdown",
   "id": "623769ae",
   "metadata": {},
   "source": [
    "2. Graph Representation Conversions"
   ]
  },
  {
   "cell_type": "code",
   "execution_count": 16,
   "id": "07daa159",
   "metadata": {},
   "outputs": [],
   "source": [
    "# Write a code to inter-convert the 3 graph representations we have learnt.\n",
    "\n",
    "def adj_list_to_matrix(adj_list):\n",
    "    nodes = sorted(adj_list.keys())\n",
    "    idx = {node: i for i, node in enumerate(nodes)}\n",
    "    size = len(nodes)\n",
    "    matrix = [[0]*size for _ in range(size)]\n",
    "    for u in adj_list:\n",
    "        for v in adj_list[u]:\n",
    "            matrix[idx[u]][idx[v]] = 1\n",
    "    return matrix, nodes\n",
    "\n",
    "# Example:\n",
    "# Input: {'A': ['B'], 'B': ['A']}\n",
    "# Output: ([[0, 1], [1, 0]], ['A', 'B'])\n",
    "\n",
    "def matrix_to_adj_list(matrix, nodes):\n",
    "    adj_list = {node: [] for node in nodes}\n",
    "    for i in range(len(matrix)):\n",
    "        for j in range(len(matrix)):\n",
    "            if matrix[i][j]:\n",
    "                adj_list[nodes[i]].append(nodes[j])\n",
    "    return adj_list\n",
    "\n",
    "# Example:\n",
    "# Input: [[0, 1], [1, 0]], ['A', 'B']\n",
    "# Output: {'A': ['B'], 'B': ['A']}\n",
    "\n",
    "def adj_list_to_edge_list(adj_list):\n",
    "    edges = []\n",
    "    for u in adj_list:\n",
    "        for v in adj_list[u]:\n",
    "            if (v, u) not in edges:\n",
    "                edges.append((u, v))\n",
    "    return edges\n",
    "\n",
    "# Example:\n",
    "# Input: {'A': ['B'], 'B': ['A']}\n",
    "# Output: [('A', 'B')]\n",
    "\n",
    "def edge_list_to_adj_list(edge_list):\n",
    "    adj_list = {}\n",
    "    for u, v in edge_list:\n",
    "        adj_list.setdefault(u, []).append(v)\n",
    "        adj_list.setdefault(v, []).append(u)\n",
    "    return adj_list\n",
    "\n",
    "# Example:\n",
    "# Input: [('A', 'B')]\n",
    "# Output: {'A': ['B'], 'B': ['A']}"
   ]
  },
  {
   "cell_type": "markdown",
   "id": "ab008f70",
   "metadata": {},
   "source": [
    "3. Check if Two Vertices are Adjacent"
   ]
  },
  {
   "cell_type": "code",
   "execution_count": 17,
   "id": "69b39397",
   "metadata": {},
   "outputs": [],
   "source": [
    "# Given a graph and two vertices, check if they are adjacent. \n",
    "\n",
    "def are_adjacent(adj_list, u, v):\n",
    "    return v in adj_list.get(u, [])\n",
    "\n",
    "# Example:\n",
    "# Input: {'A': ['B'], 'B': ['A']}, 'A', 'B'\n",
    "# Output: True"
   ]
  },
  {
   "cell_type": "markdown",
   "id": "b1a1feb0",
   "metadata": {},
   "source": [
    "4. Check if Graph is Complete"
   ]
  },
  {
   "cell_type": "code",
   "execution_count": 18,
   "id": "4d377b07",
   "metadata": {},
   "outputs": [],
   "source": [
    "# Check if a graph is complete.\n",
    "\n",
    "def is_complete(adj_list):\n",
    "    n = len(adj_list)\n",
    "    return all(len(neighbors) == n-1 for neighbors in adj_list.values())\n",
    "\n",
    "# Example:\n",
    "# Input: {'A': ['B', 'C'], 'B': ['A', 'C'], 'C': ['A', 'B']}\n",
    "# Output: True"
   ]
  },
  {
   "cell_type": "markdown",
   "id": "0c621fa5",
   "metadata": {},
   "source": [
    "5. Check if Graph is Connected"
   ]
  },
  {
   "cell_type": "code",
   "execution_count": 19,
   "id": "7c48d2f2",
   "metadata": {},
   "outputs": [],
   "source": [
    "# Check if a graph is connected.\n",
    "\n",
    "def is_connected(adj_list):\n",
    "    visited = set()\n",
    "    def dfs(u):\n",
    "        visited.add(u)\n",
    "        for v in adj_list[u]:\n",
    "            if v not in visited:\n",
    "                dfs(v)\n",
    "    start = next(iter(adj_list))\n",
    "    dfs(start)\n",
    "    return len(visited) == len(adj_list)\n",
    "\n",
    "# Example:\n",
    "# Input: {'A': ['B'], 'B': ['A', 'C'], 'C': ['B']}\n",
    "# Output: True"
   ]
  },
  {
   "cell_type": "markdown",
   "id": "9096e9d2",
   "metadata": {},
   "source": [
    "6. Check Walk / Trail / Path"
   ]
  },
  {
   "cell_type": "code",
   "execution_count": 20,
   "id": "be01db12",
   "metadata": {},
   "outputs": [],
   "source": [
    "# Given a graph and a list of vertices, check if it forms a walk, or a trail or a path or none of these.\n",
    "\n",
    "def check_walk_type(adj_list, vertex_list):\n",
    "    if not vertex_list:\n",
    "        return \"None\"\n",
    "    is_walk = True\n",
    "    is_trail = True\n",
    "    is_path = True\n",
    "    seen_edges = set()\n",
    "    seen_vertices = set()\n",
    "    for i in range(len(vertex_list)-1):\n",
    "        u, v = vertex_list[i], vertex_list[i+1]\n",
    "        if v not in adj_list.get(u, []):\n",
    "            return \"None\"\n",
    "        if (u, v) in seen_edges or (v, u) in seen_edges:\n",
    "            is_trail = False\n",
    "        else:\n",
    "            seen_edges.add((u, v))\n",
    "        if v in seen_vertices:\n",
    "            is_path = False\n",
    "        seen_vertices.add(u)\n",
    "    seen_vertices.add(vertex_list[-1])\n",
    "    if is_path:\n",
    "        return \"Path\"\n",
    "    elif is_trail:\n",
    "        return \"Trail\"\n",
    "    elif is_walk:\n",
    "        return \"Walk\"\n",
    "    return \"None\"\n",
    "\n",
    "# Example:\n",
    "# Input: {'A': ['B'], 'B': ['A', 'C'], 'C': ['B']}, ['A', 'B', 'C']\n",
    "# Output: \"Path\""
   ]
  },
  {
   "cell_type": "markdown",
   "id": "1e83d1bd",
   "metadata": {},
   "source": [
    "7. Check if Graph is a Tree"
   ]
  },
  {
   "cell_type": "code",
   "execution_count": 21,
   "id": "3126c6d0",
   "metadata": {},
   "outputs": [],
   "source": [
    "# Check if a given graph is a tree.\n",
    "\n",
    "def is_tree(adj_list):\n",
    "    return is_connected(adj_list) and len(adj_list) - 1 == sum(len(v) for v in adj_list.values()) // 2\n",
    "\n",
    "# Example:\n",
    "# Input: {'A': ['B'], 'B': ['A', 'C'], 'C': ['B']}\n",
    "# Output: True"
   ]
  },
  {
   "cell_type": "markdown",
   "id": "308e430f",
   "metadata": {},
   "source": [
    "8. Find Spanning Tree (for Connected Cyclic Graph)"
   ]
  },
  {
   "cell_type": "code",
   "execution_count": 22,
   "id": "6a10a6f6",
   "metadata": {},
   "outputs": [],
   "source": [
    "# Given a connected cyclic graph, find its spanning tree.\n",
    "\n",
    "def find_spanning_tree(adj_list):\n",
    "    visited = set()\n",
    "    tree = {v: [] for v in adj_list}\n",
    "    def dfs(u):\n",
    "        visited.add(u)\n",
    "        for v in adj_list[u]:\n",
    "            if v not in visited:\n",
    "                tree[u].append(v)\n",
    "                tree[v].append(u)\n",
    "                dfs(v)\n",
    "    start = next(iter(adj_list))\n",
    "    dfs(start)\n",
    "    return tree\n",
    "\n",
    "# Example:\n",
    "# Input: {'A': ['B', 'C'], 'B': ['A', 'C'], 'C': ['A', 'B']}\n",
    "# Output: {'A': ['B'], 'B': ['A', 'C'], 'C': ['B']}"
   ]
  },
  {
   "cell_type": "markdown",
   "id": "c5619331",
   "metadata": {},
   "source": [
    "9. Find Number of Leaf Nodes in Tree"
   ]
  },
  {
   "cell_type": "code",
   "execution_count": 23,
   "id": "d4a77bcf",
   "metadata": {},
   "outputs": [],
   "source": [
    "# Given a tree, find the number of leaf nodes.\n",
    "\n",
    "def count_leaf_nodes(tree):\n",
    "    return sum(1 for v in tree if len(tree[v]) == 1)\n",
    "\n",
    "# Example:\n",
    "# Input: {'A': ['B'], 'B': ['A', 'C'], 'C': ['B']}\n",
    "# Output: 2"
   ]
  },
  {
   "cell_type": "markdown",
   "id": "1bfe0bbc",
   "metadata": {},
   "source": [
    "10. Check if a Tree is a Binary Tree"
   ]
  },
  {
   "cell_type": "code",
   "execution_count": 24,
   "id": "c61b7d12",
   "metadata": {},
   "outputs": [],
   "source": [
    "# Given a tree, check if it's a binary tree.\n",
    "\n",
    "def is_binary_tree(tree):\n",
    "    return all(len(neighbors) <= 3 for neighbors in tree.values())\n",
    "\n",
    "# Example:\n",
    "# Input: {'A': ['B', 'C'], 'B': ['A'], 'C': ['A']}\n",
    "# Output: True"
   ]
  },
  {
   "cell_type": "markdown",
   "id": "9f2fbaae",
   "metadata": {},
   "source": [
    "11. Find Height of a Node in a Tree"
   ]
  },
  {
   "cell_type": "code",
   "execution_count": 25,
   "id": "54450586",
   "metadata": {},
   "outputs": [],
   "source": [
    "# Given a tree and a node, find its height.\n",
    "\n",
    "def find_height(tree, node):\n",
    "    def dfs(u):\n",
    "        if not tree[u]:\n",
    "            return 0\n",
    "        return 1 + max(dfs(v) for v in tree[u] if v != u)\n",
    "    return dfs(node)\n",
    "\n",
    "# Example:\n",
    "# Input: {'A': ['B'], 'B': ['A', 'C'], 'C': ['B']}, 'B'\n",
    "# Output: 1"
   ]
  },
  {
   "cell_type": "markdown",
   "id": "9d561cad",
   "metadata": {},
   "source": [
    "12. Find Depth of a Node in a Tree"
   ]
  },
  {
   "cell_type": "code",
   "execution_count": 26,
   "id": "e2d93d10",
   "metadata": {},
   "outputs": [],
   "source": [
    "# Given a tree and a node, find its depth.\n",
    "\n",
    "def find_depth(tree, root, target):\n",
    "    def dfs(u, depth):\n",
    "        if u == target:\n",
    "            return depth\n",
    "        for v in tree[u]:\n",
    "            if v != u:\n",
    "                d = dfs(v, depth+1)\n",
    "                if d != -1:\n",
    "                    return d\n",
    "        return -1\n",
    "    return dfs(root, 0)\n",
    "\n",
    "# Example:\n",
    "# Input: {'A': ['B'], 'B': ['A', 'C'], 'C': ['B']}, root='A', target='C'\n",
    "# Output: 2"
   ]
  }
 ],
 "metadata": {
  "kernelspec": {
   "display_name": "Python 3",
   "language": "python",
   "name": "python3"
  },
  "language_info": {
   "codemirror_mode": {
    "name": "ipython",
    "version": 3
   },
   "file_extension": ".py",
   "mimetype": "text/x-python",
   "name": "python",
   "nbconvert_exporter": "python",
   "pygments_lexer": "ipython3",
   "version": "3.12.5"
  }
 },
 "nbformat": 4,
 "nbformat_minor": 5
}
